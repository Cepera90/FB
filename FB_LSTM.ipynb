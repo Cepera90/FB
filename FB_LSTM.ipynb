{
  "nbformat": 4,
  "nbformat_minor": 0,
  "metadata": {
    "colab": {
      "name": "FB LSTM.ipynb",
      "provenance": [],
      "collapsed_sections": [],
      "authorship_tag": "ABX9TyNsFIZvzkVPa7X6f28Knf8J",
      "include_colab_link": true
    },
    "kernelspec": {
      "name": "python3",
      "display_name": "Python 3"
    },
    "language_info": {
      "name": "python"
    }
  },
  "cells": [
    {
      "cell_type": "markdown",
      "metadata": {
        "id": "view-in-github",
        "colab_type": "text"
      },
      "source": [
        "<a href=\"https://colab.research.google.com/github/Cepera90/FB/blob/LSTM/FB_LSTM.ipynb\" target=\"_parent\"><img src=\"https://colab.research.google.com/assets/colab-badge.svg\" alt=\"Open In Colab\"/></a>"
      ]
    },
    {
      "cell_type": "code",
      "execution_count": 1,
      "metadata": {
        "id": "DhKjEm7mBYtC"
      },
      "outputs": [],
      "source": [
        "import numpy as np\n",
        "import pandas as pd"
      ]
    },
    {
      "cell_type": "code",
      "source": [
        "def csv(path):\n",
        "  df = pd.read_csv(path, index_col = 'Дата', \n",
        "                   parse_dates=True, quotechar='\"', \n",
        "                   decimal=\",\", dayfirst=True)\n",
        "  df = df.sort_values(by=\"Дата\",\n",
        "               ascending=True)\n",
        "  df['Объём'] = [x.replace(',', '.').replace('M', '') for x in df['Объём']]\n",
        "  df['Изм. %'] = [x.replace('+', '').replace('-', '').replace('%', '').replace(',', '.') for x in df['Изм. %']]\n",
        "  df.loc['2022-01-14':,'Цена':'Изм. %'] = df.loc['2022-01-14':,'Цена':'Изм. %'].astype(float)\n",
        "  return df"
      ],
      "metadata": {
        "id": "ozwTC3gUCAfq"
      },
      "execution_count": 2,
      "outputs": []
    },
    {
      "cell_type": "code",
      "source": [
        "df = csv('/content/FB.csv')"
      ],
      "metadata": {
        "id": "KoQo4dH5fE5p"
      },
      "execution_count": 3,
      "outputs": []
    },
    {
      "cell_type": "code",
      "source": [
        "import matplotlib.pyplot as plt\n",
        "plt.style.use('ggplot')\n",
        "df['Цена'].plot(label='Цена', title='FB Stock Volume')"
      ],
      "metadata": {
        "colab": {
          "base_uri": "https://localhost:8080/",
          "height": 306
        },
        "id": "0FeMmZhKCGjC",
        "outputId": "7b63fd14-5bb7-4f73-8cde-321c32827eb5"
      },
      "execution_count": 4,
      "outputs": [
        {
          "output_type": "execute_result",
          "data": {
            "text/plain": [
              "<matplotlib.axes._subplots.AxesSubplot at 0x7f43bb3affd0>"
            ]
          },
          "metadata": {},
          "execution_count": 4
        },
        {
          "output_type": "display_data",
          "data": {
            "image/png": "[encoded data removed]",
            "text/plain": [
              "<Figure size 432x288 with 1 Axes>"
            ]
          },
          "metadata": {}
        }
      ]
    },
    {
      "cell_type": "code",
      "source": [
        "X = df.iloc[:, 1:]\n",
        "y = df.iloc[:, 0:1]"
      ],
      "metadata": {
        "id": "Xu52FTl06Mtq"
      },
      "execution_count": 5,
      "outputs": []
    },
    {
      "cell_type": "code",
      "source": [
        "from sklearn.preprocessing import StandardScaler, MinMaxScaler\n",
        "mm = MinMaxScaler()\n",
        "ss = StandardScaler()\n",
        "\n",
        "\n",
        "X_ss = ss.fit_transform(X)\n",
        "y_mm = mm.fit_transform(y) "
      ],
      "metadata": {
        "id": "fN7MnD8-8379"
      },
      "execution_count": 6,
      "outputs": []
    },
    {
      "cell_type": "code",
      "source": [
        "print(\"X_ss Shape\", X_ss.shape)\n",
        "print(\"y_mm Shape\", y_mm.shape)"
      ],
      "metadata": {
        "colab": {
          "base_uri": "https://localhost:8080/"
        },
        "id": "Lggc21L9is9J",
        "outputId": "71d3206e-c014-434a-a515-45a0075a8c3c"
      },
      "execution_count": null,
      "outputs": [
        {
          "output_type": "stream",
          "name": "stdout",
          "text": [
            "X_ss Shape (2433, 5)\n",
            "y_mm Shape (2433, 1)\n"
          ]
        }
      ]
    },
    {
      "cell_type": "code",
      "source": [
        "#split dataset to train and test sets\n",
        "test_size = int(0.1 * len(X_ss))\n",
        "X_train = X_ss[:-test_size, :]\n",
        "X_test = X_ss[-test_size:, :]\n",
        "\n",
        "y_train = y_mm[:-test_size, :]\n",
        "y_test = y_mm[-test_size:, :]"
      ],
      "metadata": {
        "id": "-2nbLGd19Ms5"
      },
      "execution_count": 7,
      "outputs": []
    },
    {
      "cell_type": "code",
      "source": [
        "print(\"Training Shape\", X_train.shape, y_train.shape)\n",
        "print(\"Testing Shape\", X_test.shape, y_test.shape)"
      ],
      "metadata": {
        "colab": {
          "base_uri": "https://localhost:8080/"
        },
        "id": "Pz-IwFt9_oGc",
        "outputId": "67bbd229-3769-4ee3-8d29-f6c6e163db27"
      },
      "execution_count": null,
      "outputs": [
        {
          "output_type": "stream",
          "name": "stdout",
          "text": [
            "Training Shape (2190, 5) (2190, 1)\n",
            "Testing Shape (243, 5) (243, 1)\n"
          ]
        }
      ]
    },
    {
      "cell_type": "code",
      "source": [
        "import torch #pytorch\n",
        "import torch.nn as nn\n",
        "from torch.autograd import Variable \n",
        "\n",
        "X_train_tensors = Variable(torch.Tensor(X_train))\n",
        "X_test_tensors = Variable(torch.Tensor(X_test))\n",
        "\n",
        "y_train_tensors = Variable(torch.Tensor(y_train))\n",
        "y_test_tensors = Variable(torch.Tensor(y_test))"
      ],
      "metadata": {
        "id": "0hyMx2ZA9ciO"
      },
      "execution_count": 8,
      "outputs": []
    },
    {
      "cell_type": "code",
      "source": [
        "#reshaping to rows, timestamps, features\n",
        "\n",
        "X_train_tensors_final = torch.reshape(X_train_tensors,   (X_train_tensors.shape[0], 1, X_train_tensors.shape[1]))\n",
        "\n",
        "\n",
        "X_test_tensors_final = torch.reshape(X_test_tensors,  (X_test_tensors.shape[0], 1, X_test_tensors.shape[1]))"
      ],
      "metadata": {
        "id": "5RJbOZbr90se"
      },
      "execution_count": 9,
      "outputs": []
    },
    {
      "cell_type": "code",
      "source": [
        "class LSTM1(nn.Module):\n",
        "    def __init__(self, num_classes, input_size, hidden_size, num_layers, seq_length):\n",
        "        super(LSTM1, self).__init__()\n",
        "        self.num_classes = num_classes #number of classes\n",
        "        self.num_layers = num_layers #number of layers\n",
        "        self.input_size = input_size #input size\n",
        "        self.hidden_size = hidden_size #hidden state\n",
        "        self.seq_length = seq_length #sequence length\n",
        "\n",
        "        self.lstm = nn.LSTM(input_size=input_size, hidden_size=hidden_size,\n",
        "                          num_layers=num_layers, batch_first=True) #lstm\n",
        "        self.fc_1 =  nn.Linear(hidden_size, 128) #fully connected 1\n",
        "        self.fc = nn.Linear(128, num_classes) #fully connected last layer\n",
        "        \n",
        "        self.relu = nn.ReLU()\n",
        "    \n",
        "    def forward(self,x):\n",
        "        h_0 = Variable(torch.zeros(self.num_layers, x.size(0), self.hidden_size)) #hidden state\n",
        "        c_0 = Variable(torch.zeros(self.num_layers, x.size(0), self.hidden_size)) #internal state\n",
        "        # Propagate input through LSTM\n",
        "        output, (hn, cn) = self.lstm(x, (h_0, c_0)) #lstm with input, hidden, and internal state\n",
        "        hn = hn.view(-1, self.hidden_size) #reshaping the data for Dense layer next\n",
        "        out = self.relu(hn)\n",
        "        out = self.fc_1(out) #first Dense\n",
        "        out = self.relu(out) #relu\n",
        "        out = self.fc(out) #Final Output\n",
        "        return out"
      ],
      "metadata": {
        "id": "gUAecigE-Av9"
      },
      "execution_count": 10,
      "outputs": []
    },
    {
      "cell_type": "code",
      "source": [
        "num_epochs = 400 #400 epochs\n",
        "learning_rate = 0.001 #0.001 lr\n",
        "\n",
        "input_size = 5 #number of features\n",
        "hidden_size = 64 #number of features in hidden state\n",
        "num_layers = 1 #number of stacked lstm layers\n",
        "\n",
        "num_classes = 1 #number of output classes"
      ],
      "metadata": {
        "id": "0zS4an4d-NS4"
      },
      "execution_count": 11,
      "outputs": []
    },
    {
      "cell_type": "code",
      "source": [
        "lstm1 = LSTM1(num_classes, input_size, hidden_size, num_layers, X_train_tensors_final.shape[1]) #our lstm class"
      ],
      "metadata": {
        "id": "KmRbmmkX-pEE"
      },
      "execution_count": 12,
      "outputs": []
    },
    {
      "cell_type": "code",
      "source": [
        "criterion = torch.nn.MSELoss()    # mean-squared error for regression\n",
        "optimizer = torch.optim.Adam(lstm1.parameters(), lr=learning_rate)"
      ],
      "metadata": {
        "id": "Gj_IaSkv-urS"
      },
      "execution_count": 13,
      "outputs": []
    },
    {
      "cell_type": "code",
      "source": [
        "for epoch in range(num_epochs):\n",
        "  outputs = lstm1.forward(X_train_tensors_final) #forward pass\n",
        "  optimizer.zero_grad() #caluclate the gradient, manually setting to 0\n",
        " \n",
        "  # obtain the loss function\n",
        "  loss = criterion(outputs, y_train_tensors)\n",
        " \n",
        "  loss.backward() #calculates the loss of the loss function\n",
        " \n",
        "  optimizer.step() #improve from loss, i.e backprop\n",
        "  if epoch % 100 == 0:\n",
        "    print(\"Epoch: %d, loss: %1.5f\" % (epoch, loss.item()))"
      ],
      "metadata": {
        "colab": {
          "base_uri": "https://localhost:8080/"
        },
        "id": "V1JzjQ2T-wOY",
        "outputId": "a9d5eb30-e13f-46cd-dfc1-5a13d37e7b7d"
      },
      "execution_count": 14,
      "outputs": [
        {
          "output_type": "stream",
          "name": "stdout",
          "text": [
            "Epoch: 0, loss: 0.09992\n",
            "Epoch: 100, loss: 0.00008\n",
            "Epoch: 200, loss: 0.00002\n",
            "Epoch: 300, loss: 0.00002\n"
          ]
        }
      ]
    },
    {
      "cell_type": "code",
      "source": [
        "df_X_ss = ss.transform(df.iloc[:, 1:]) #old transformers\n",
        "df_y_mm = mm.transform(df.iloc[:, 0:1]) #old transformers\n",
        "\n",
        "df_X_ss = Variable(torch.Tensor(df_X_ss)) #converting to Tensors\n",
        "df_y_mm = Variable(torch.Tensor(df_y_mm))\n",
        "#reshaping the dataset\n",
        "df_X_ss = torch.reshape(df_X_ss, (df_X_ss.shape[0], 1, df_X_ss.shape[1]))"
      ],
      "metadata": {
        "id": "L74lwrVF_OMb"
      },
      "execution_count": 15,
      "outputs": []
    },
    {
      "cell_type": "code",
      "source": [
        "train_predict = lstm1(df_X_ss)#forward pass\n",
        "data_predict = train_predict.detach().numpy() #numpy conversion\n",
        "dataY_plot = df_y_mm.data.numpy()\n",
        "\n",
        "data_predict = mm.inverse_transform(data_predict) #reverse transformation\n",
        "dataY_plot = mm.inverse_transform(dataY_plot)\n",
        "plt.figure(figsize=(10,6)) #plotting\n",
        "plt.axvline(x=2190, c='r', linestyle='--') #size of the training set\n",
        "\n",
        "plt.plot(dataY_plot, label='Actuall Data') #actual plot\n",
        "plt.plot(data_predict, label='Predicted Data') #predicted plot\n",
        "plt.title('Time-Series Prediction')\n",
        "plt.legend()\n",
        "plt.show()"
      ],
      "metadata": {
        "id": "9veLdlu1_f4Z",
        "colab": {
          "base_uri": "https://localhost:8080/",
          "height": 391
        },
        "outputId": "f15ccd8e-4f22-4606-bc53-66da7ef41309"
      },
      "execution_count": 16,
      "outputs": [
        {
          "output_type": "display_data",
          "data": {
            "image/png": "[encoded data removed]",
            "text/plain": [
              "<Figure size 720x432 with 1 Axes>"
            ]
          },
          "metadata": {}
        }
      ]
    },
    {
      "cell_type": "code",
      "source": [
        "torch.save(lstm1, '/content/FB.pth')"
      ],
      "metadata": {
        "id": "P_fE26dlJaUl"
      },
      "execution_count": null,
      "outputs": []
    },
    {
      "cell_type": "code",
      "source": [
        "lstm1 = torch.load('/content/FB.pth')"
      ],
      "metadata": {
        "id": "LljQiobjJw-z"
      },
      "execution_count": null,
      "outputs": []
    },
    {
      "cell_type": "code",
      "source": [
        "# FB 21.01.2022\tОткр\tМакс\tМин\tОбъём\tИзм. %\n",
        "X_new = pd.Series([314.81, 318.31, 303.04, 28.71, 4.23])\n",
        "X_new.shape"
      ],
      "metadata": {
        "colab": {
          "base_uri": "https://localhost:8080/"
        },
        "id": "65y97nd1f2eM",
        "outputId": "7f890c9c-8878-4198-8be0-45d22ac90e71"
      },
      "execution_count": null,
      "outputs": [
        {
          "output_type": "execute_result",
          "data": {
            "text/plain": [
              "(5,)"
            ]
          },
          "metadata": {},
          "execution_count": 74
        }
      ]
    },
    {
      "cell_type": "code",
      "source": [
        "X_new_ss = ss.fit_transform(X_new.values.reshape(1, -1))"
      ],
      "metadata": {
        "id": "pEZ2cSO1ijnk"
      },
      "execution_count": null,
      "outputs": []
    },
    {
      "cell_type": "code",
      "source": [
        "# convert X_new_ss to tensor\n",
        "from torch import Tensor\n",
        "X_new_tensors = Variable(Tensor(X_new_ss).float())"
      ],
      "metadata": {
        "id": "uyS8-W79dBFz"
      },
      "execution_count": null,
      "outputs": []
    },
    {
      "cell_type": "code",
      "source": [
        "#reshaping to rows, timestamps, features\n",
        "\n",
        "X_new_tensors_final = torch.reshape(X_new_tensors,   (X_new_tensors.shape[0], 1, X_new_tensors.shape[1]))"
      ],
      "metadata": {
        "id": "EliJN5HPmQvv"
      },
      "execution_count": null,
      "outputs": []
    },
    {
      "cell_type": "code",
      "source": [
        "# make prediction\n",
        "y_pred = lstm1(X_new_tensors_final)\n",
        "y_pred = y_pred.detach().numpy() #numpy conversion\n",
        "y_pred = mm.inverse_transform(y_pred) #reverse transformation\n",
        "print(y_pred)"
      ],
      "metadata": {
        "colab": {
          "base_uri": "https://localhost:8080/"
        },
        "id": "-rjKWbv8hxzt",
        "outputId": "1b3d79d4-8ccd-497c-a03d-c33c669121a6"
      },
      "execution_count": null,
      "outputs": [
        {
          "output_type": "stream",
          "name": "stdout",
          "text": [
            "[[145.08806]]\n"
          ]
        }
      ]
    },
    {
      "cell_type": "code",
      "source": [
        "df_new = csv('/content/FB_new.csv')"
      ],
      "metadata": {
        "id": "AWPUVlXUSDez"
      },
      "execution_count": 17,
      "outputs": []
    },
    {
      "cell_type": "code",
      "source": [
        "X_new = df_new.iloc[:, 1:]\n",
        "y_new = df_new.iloc[:, 0:1]"
      ],
      "metadata": {
        "id": "vax7RcMkSOc8"
      },
      "execution_count": 18,
      "outputs": []
    },
    {
      "cell_type": "code",
      "source": [
        "X_new_ss = ss.fit_transform(X_new)"
      ],
      "metadata": {
        "id": "sad-zBgLSgfE"
      },
      "execution_count": 22,
      "outputs": []
    },
    {
      "cell_type": "code",
      "source": [
        "X_new_tensors = Variable(torch.Tensor(X_new_ss))"
      ],
      "metadata": {
        "id": "PGgmse3mSs1J"
      },
      "execution_count": 23,
      "outputs": []
    },
    {
      "cell_type": "code",
      "source": [
        "#reshaping to rows, timestamps, features\n",
        "\n",
        "X_new_final = torch.reshape(X_new_tensors,   (X_new_tensors.shape[0], 1, X_new_tensors.shape[1]))"
      ],
      "metadata": {
        "id": "Zzy-PkrbTEYu"
      },
      "execution_count": 24,
      "outputs": []
    },
    {
      "cell_type": "code",
      "source": [
        "new_predict = lstm1(X_new_final)#forward pass\n",
        "new_predict = new_predict.detach().numpy() #numpy conversion\n",
        "new_predict = mm.inverse_transform(new_predict) #reverse transformation"
      ],
      "metadata": {
        "id": "JO9N4NuBTwqH"
      },
      "execution_count": 28,
      "outputs": []
    },
    {
      "cell_type": "code",
      "source": [
        "y_new['Цена_прогноз'] = new_predict.values"
      ],
      "metadata": {
        "id": "T7EeggayWiVY"
      },
      "execution_count": 37,
      "outputs": []
    },
    {
      "cell_type": "code",
      "source": [
        "plt.style.use('ggplot')\n",
        "plt.plot(y_new[\"Цена\"], label='Actuall Data') #actual plot\n",
        "plt.plot(y_new[\"Цена_прогноз\"], label='Predicted Data') #predicted plot\n",
        "plt.xticks(rotation=90)\n",
        "plt.title('Predict price FB')\n",
        "plt.legend()\n",
        "plt.show()"
      ],
      "metadata": {
        "colab": {
          "base_uri": "https://localhost:8080/",
          "height": 330
        },
        "id": "G2hJEcFHai15",
        "outputId": "12b81b1a-46ad-4cc7-cbf8-e2cb9ef29751"
      },
      "execution_count": 39,
      "outputs": [
        {
          "output_type": "display_data",
          "data": {
            "image/png": "[encoded data removed]",
            "text/plain": [
              "<Figure size 432x288 with 1 Axes>"
            ]
          },
          "metadata": {}
        }
      ]
    }
  ]
}