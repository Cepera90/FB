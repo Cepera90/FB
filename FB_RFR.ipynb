{
  "nbformat": 4,
  "nbformat_minor": 0,
  "metadata": {
    "colab": {
      "name": "FB RFR.ipynb",
      "provenance": [],
      "collapsed_sections": [],
      "authorship_tag": "ABX9TyP4oW27sY25DEFB6gKHt42R",
      "include_colab_link": true
    },
    "kernelspec": {
      "name": "python3",
      "display_name": "Python 3"
    },
    "language_info": {
      "name": "python"
    }
  },
  "cells": [
    {
      "cell_type": "markdown",
      "metadata": {
        "id": "view-in-github",
        "colab_type": "text"
      },
      "source": [
        "<a href=\"https://colab.research.google.com/github/Cepera90/FB/blob/RFR/FB_RFR.ipynb\" target=\"_parent\"><img src=\"https://colab.research.google.com/assets/colab-badge.svg\" alt=\"Open In Colab\"/></a>"
      ]
    },
    {
      "cell_type": "code",
      "execution_count": 1,
      "metadata": {
        "id": "rwWG5YYPxAWt"
      },
      "outputs": [],
      "source": [
        "import numpy as np\n",
        "import pandas as pd"
      ]
    },
    {
      "cell_type": "code",
      "source": [
        "def csv(path):\n",
        "  df = pd.read_csv(path, index_col = 'Дата', \n",
        "                   parse_dates=True, quotechar='\"', \n",
        "                   decimal=\",\", dayfirst=True)\n",
        "  df = df.sort_values(by=\"Дата\",\n",
        "               ascending=True)\n",
        "  df['Объём'] = [x.replace(',', '.').replace('M', '') for x in df['Объём']]\n",
        "  df['Изм. %'] = [x.replace('+', '').replace('%', '').replace(',', '.') for x in df['Изм. %']]\n",
        "  df.loc['2022-01-14':,'Цена':'Изм. %'] = df.loc['2022-01-14':,'Цена':'Изм. %'].astype(float)\n",
        "  return df"
      ],
      "metadata": {
        "id": "i4oAP5G6JbDb"
      },
      "execution_count": 2,
      "outputs": []
    },
    {
      "cell_type": "code",
      "source": [
        "df = csv('/content/FB.csv')"
      ],
      "metadata": {
        "id": "K59kQIZyKQ0E"
      },
      "execution_count": 3,
      "outputs": []
    },
    {
      "cell_type": "code",
      "source": [
        "X = df.iloc[:, 1:]\n",
        "y = df.iloc[:, 0:1]"
      ],
      "metadata": {
        "id": "8V2rMgofyDgu"
      },
      "execution_count": 4,
      "outputs": []
    },
    {
      "cell_type": "code",
      "source": [
        "from sklearn.model_selection import train_test_split\n",
        "\n",
        "Xtrain, Xtest, ytrain, ytest = train_test_split(X, y, random_state=0)"
      ],
      "metadata": {
        "id": "IFPetJFPyF44"
      },
      "execution_count": 5,
      "outputs": []
    },
    {
      "cell_type": "code",
      "source": [
        "from sklearn.model_selection import GridSearchCV\n",
        "from sklearn import ensemble\n",
        "tuned_parameters = {'n_estimators': [500, 600, 700], 'min_samples_split': [3, 4, 5]}\n",
        "clf = GridSearchCV(ensemble.RandomForestRegressor(), tuned_parameters)\n",
        "clf.fit(Xtrain, ytrain.values.ravel())"
      ],
      "metadata": {
        "colab": {
          "base_uri": "https://localhost:8080/"
        },
        "id": "NrjcipCR0FIc",
        "outputId": "5a14955b-282a-4426-d977-e7f9befbfd92"
      },
      "execution_count": null,
      "outputs": [
        {
          "output_type": "execute_result",
          "data": {
            "text/plain": [
              "GridSearchCV(estimator=RandomForestRegressor(),\n",
              "             param_grid={'min_samples_split': [3, 4, 5],\n",
              "                         'n_estimators': [500, 600, 700]})"
            ]
          },
          "metadata": {},
          "execution_count": 14
        }
      ]
    },
    {
      "cell_type": "code",
      "source": [
        "clf.best_params_"
      ],
      "metadata": {
        "colab": {
          "base_uri": "https://localhost:8080/"
        },
        "id": "NVWRqEoU5xMx",
        "outputId": "d58b35a8-8775-40ae-9615-a018b6b571f7"
      },
      "execution_count": null,
      "outputs": [
        {
          "output_type": "execute_result",
          "data": {
            "text/plain": [
              "{'min_samples_split': 4, 'n_estimators': 600}"
            ]
          },
          "metadata": {},
          "execution_count": 15
        }
      ]
    },
    {
      "cell_type": "code",
      "source": [
        "from sklearn.ensemble import RandomForestRegressor\n",
        "forest = RandomForestRegressor(n_estimators=600, min_samples_split=4)\n",
        "forest.fit(Xtrain, ytrain.values.ravel())"
      ],
      "metadata": {
        "colab": {
          "base_uri": "https://localhost:8080/"
        },
        "id": "xkwwoYJE6Eh6",
        "outputId": "55eab014-05ed-4d5d-c4f2-fc10da793150"
      },
      "execution_count": 6,
      "outputs": [
        {
          "output_type": "execute_result",
          "data": {
            "text/plain": [
              "RandomForestRegressor(min_samples_split=4, n_estimators=600)"
            ]
          },
          "metadata": {},
          "execution_count": 6
        }
      ]
    },
    {
      "cell_type": "code",
      "source": [
        "from sklearn.metrics import r2_score\n",
        "y_model = forest.predict(Xtest) \n",
        "r2_score_RFR = r2_score(ytest, y_model)\n",
        "print(\"RFR R2 score\", r2_score_RFR)"
      ],
      "metadata": {
        "colab": {
          "base_uri": "https://localhost:8080/"
        },
        "id": "y6vUJAoIU3QP",
        "outputId": "e10adc82-f70e-48aa-a44c-79deaa1a3102"
      },
      "execution_count": 7,
      "outputs": [
        {
          "output_type": "stream",
          "name": "stdout",
          "text": [
            "RFR R2 score 0.9997653609115792\n"
          ]
        }
      ]
    },
    {
      "cell_type": "code",
      "source": [
        "ytest['Цена_прогноз'] = forest.predict(Xtest)"
      ],
      "metadata": {
        "id": "1Ho8ow45guaW"
      },
      "execution_count": 8,
      "outputs": []
    },
    {
      "cell_type": "code",
      "source": [
        "ytest = ytest.rename_axis('Дата').reset_index()\n",
        "ytest = ytest.sort_values(by=\"Дата\").reset_index(drop=True)"
      ],
      "metadata": {
        "id": "xGUiVbGsVyek"
      },
      "execution_count": 9,
      "outputs": []
    },
    {
      "cell_type": "code",
      "source": [
        "import matplotlib.pyplot as plt\n",
        "plt.style.use('ggplot')\n",
        "plt.plot(ytest[\"Дата\"][589:], ytest[\"Цена\"][589:], label='Actuall Data') #actual plot\n",
        "plt.plot(ytest[\"Дата\"][589:], ytest[\"Цена_прогноз\"][589:], label='Predicted Data') #predicted plot\n",
        "plt.xticks(rotation=90)\n",
        "plt.title('Predict price FB')\n",
        "plt.legend()\n",
        "plt.show()"
      ],
      "metadata": {
        "colab": {
          "base_uri": "https://localhost:8080/",
          "height": 330
        },
        "id": "fyibuwh96ttK",
        "outputId": "e3a0418c-6976-4597-8132-bc76c214608c"
      },
      "execution_count": 10,
      "outputs": [
        {
          "output_type": "display_data",
          "data": {
            "image/png": "[encoded data removed]",
            "text/plain": [
              "<Figure size 432x288 with 1 Axes>"
            ]
          },
          "metadata": {}
        }
      ]
    },
    {
      "cell_type": "code",
      "source": [
        "df_new = csv('/content/FB_new.csv')"
      ],
      "metadata": {
        "id": "QnXHh6pMLFOc"
      },
      "execution_count": 11,
      "outputs": []
    },
    {
      "cell_type": "code",
      "source": [
        "X_new = df_new.iloc[:, 1:]\n",
        "y_new = df_new.iloc[:, 0:1]"
      ],
      "metadata": {
        "id": "j6l4miVHLUi-"
      },
      "execution_count": 12,
      "outputs": []
    },
    {
      "cell_type": "code",
      "source": [
        "from sklearn.metrics import r2_score\n",
        "model_new = forest.predict(X_new) \n",
        "r2_score_RFR = r2_score(y_new, model_new)\n",
        "print(\"RFR R2 score\", r2_score_RFR)"
      ],
      "metadata": {
        "colab": {
          "base_uri": "https://localhost:8080/"
        },
        "id": "pG5-zxYVLh-J",
        "outputId": "fbab126c-32cc-4ba8-ac81-7226ecc791f1"
      },
      "execution_count": 13,
      "outputs": [
        {
          "output_type": "stream",
          "name": "stdout",
          "text": [
            "RFR R2 score 0.6253557155890943\n"
          ]
        }
      ]
    },
    {
      "cell_type": "code",
      "source": [
        "y_new['Цена_прогноз'] = forest.predict(X_new)\n",
        "y_new = y_new.rename_axis('Дата').reset_index()\n",
        "y_new = y_new.sort_values(by=\"Дата\").reset_index(drop=True)\n",
        "y_new"
      ],
      "metadata": {
        "colab": {
          "base_uri": "https://localhost:8080/",
          "height": 300
        },
        "id": "rhwBAqJQL6iy",
        "outputId": "1fb49810-fd85-4e18-ed4d-2fcb498b3512"
      },
      "execution_count": 14,
      "outputs": [
        {
          "output_type": "execute_result",
          "data": {
            "text/html": [
              "\n",
              "  <div id=\"df-2899c270-ca80-49ea-aef8-6c900ebbf6f8\">\n",
              "    <div class=\"colab-df-container\">\n",
              "      <div>\n",
              "<style scoped>\n",
              "    .dataframe tbody tr th:only-of-type {\n",
              "        vertical-align: middle;\n",
              "    }\n",
              "\n",
              "    .dataframe tbody tr th {\n",
              "        vertical-align: top;\n",
              "    }\n",
              "\n",
              "    .dataframe thead th {\n",
              "        text-align: right;\n",
              "    }\n",
              "</style>\n",
              "<table border=\"1\" class=\"dataframe\">\n",
              "  <thead>\n",
              "    <tr style=\"text-align: right;\">\n",
              "      <th></th>\n",
              "      <th>Дата</th>\n",
              "      <th>Цена</th>\n",
              "      <th>Цена_прогноз</th>\n",
              "    </tr>\n",
              "  </thead>\n",
              "  <tbody>\n",
              "    <tr>\n",
              "      <th>0</th>\n",
              "      <td>2022-01-18</td>\n",
              "      <td>318.15</td>\n",
              "      <td>323.856397</td>\n",
              "    </tr>\n",
              "    <tr>\n",
              "      <th>1</th>\n",
              "      <td>2022-01-19</td>\n",
              "      <td>319.59</td>\n",
              "      <td>323.801138</td>\n",
              "    </tr>\n",
              "    <tr>\n",
              "      <th>2</th>\n",
              "      <td>2022-01-20</td>\n",
              "      <td>316.56</td>\n",
              "      <td>323.910028</td>\n",
              "    </tr>\n",
              "    <tr>\n",
              "      <th>3</th>\n",
              "      <td>2022-01-21</td>\n",
              "      <td>303.17</td>\n",
              "      <td>311.583401</td>\n",
              "    </tr>\n",
              "    <tr>\n",
              "      <th>4</th>\n",
              "      <td>2022-01-24</td>\n",
              "      <td>308.71</td>\n",
              "      <td>304.541147</td>\n",
              "    </tr>\n",
              "    <tr>\n",
              "      <th>5</th>\n",
              "      <td>2022-01-25</td>\n",
              "      <td>300.15</td>\n",
              "      <td>301.458191</td>\n",
              "    </tr>\n",
              "    <tr>\n",
              "      <th>6</th>\n",
              "      <td>2022-01-26</td>\n",
              "      <td>294.63</td>\n",
              "      <td>301.407349</td>\n",
              "    </tr>\n",
              "    <tr>\n",
              "      <th>7</th>\n",
              "      <td>2022-01-27</td>\n",
              "      <td>299.65</td>\n",
              "      <td>298.747685</td>\n",
              "    </tr>\n",
              "  </tbody>\n",
              "</table>\n",
              "</div>\n",
              "      <button class=\"colab-df-convert\" onclick=\"convertToInteractive('df-2899c270-ca80-49ea-aef8-6c900ebbf6f8')\"\n",
              "              title=\"Convert this dataframe to an interactive table.\"\n",
              "              style=\"display:none;\">\n",
              "        \n",
              "  <svg xmlns=\"http://www.w3.org/2000/svg\" height=\"24px\"viewBox=\"0 0 24 24\"\n",
              "       width=\"24px\">\n",
              "    <path d=\"M0 0h24v24H0V0z\" fill=\"none\"/>\n",
              "    <path d=\"M18.56 5.44l.94 2.06.94-2.06 2.06-.94-2.06-.94-.94-2.06-.94 2.06-2.06.94zm-11 1L8.5 8.5l.94-2.06 2.06-.94-2.06-.94L8.5 2.5l-.94 2.06-2.06.94zm10 10l.94 2.06.94-2.06 2.06-.94-2.06-.94-.94-2.06-.94 2.06-2.06.94z\"/><path d=\"M17.41 7.96l-1.37-1.37c-.4-.4-.92-.59-1.43-.59-.52 0-1.04.2-1.43.59L10.3 9.45l-7.72 7.72c-.78.78-.78 2.05 0 2.83L4 21.41c.39.39.9.59 1.41.59.51 0 1.02-.2 1.41-.59l7.78-7.78 2.81-2.81c.8-.78.8-2.07 0-2.86zM5.41 20L4 18.59l7.72-7.72 1.47 1.35L5.41 20z\"/>\n",
              "  </svg>\n",
              "      </button>\n",
              "      \n",
              "  <style>\n",
              "    .colab-df-container {\n",
              "      display:flex;\n",
              "      flex-wrap:wrap;\n",
              "      gap: 12px;\n",
              "    }\n",
              "\n",
              "    .colab-df-convert {\n",
              "      background-color: #E8F0FE;\n",
              "      border: none;\n",
              "      border-radius: 50%;\n",
              "      cursor: pointer;\n",
              "      display: none;\n",
              "      fill: #1967D2;\n",
              "      height: 32px;\n",
              "      padding: 0 0 0 0;\n",
              "      width: 32px;\n",
              "    }\n",
              "\n",
              "    .colab-df-convert:hover {\n",
              "      background-color: #E2EBFA;\n",
              "      box-shadow: 0px 1px 2px rgba(60, 64, 67, 0.3), 0px 1px 3px 1px rgba(60, 64, 67, 0.15);\n",
              "      fill: #174EA6;\n",
              "    }\n",
              "\n",
              "    [theme=dark] .colab-df-convert {\n",
              "      background-color: #3B4455;\n",
              "      fill: #D2E3FC;\n",
              "    }\n",
              "\n",
              "    [theme=dark] .colab-df-convert:hover {\n",
              "      background-color: #434B5C;\n",
              "      box-shadow: 0px 1px 3px 1px rgba(0, 0, 0, 0.15);\n",
              "      filter: drop-shadow(0px 1px 2px rgba(0, 0, 0, 0.3));\n",
              "      fill: #FFFFFF;\n",
              "    }\n",
              "  </style>\n",
              "\n",
              "      <script>\n",
              "        const buttonEl =\n",
              "          document.querySelector('#df-2899c270-ca80-49ea-aef8-6c900ebbf6f8 button.colab-df-convert');\n",
              "        buttonEl.style.display =\n",
              "          google.colab.kernel.accessAllowed ? 'block' : 'none';\n",
              "\n",
              "        async function convertToInteractive(key) {\n",
              "          const element = document.querySelector('#df-2899c270-ca80-49ea-aef8-6c900ebbf6f8');\n",
              "          const dataTable =\n",
              "            await google.colab.kernel.invokeFunction('convertToInteractive',\n",
              "                                                     [key], {});\n",
              "          if (!dataTable) return;\n",
              "\n",
              "          const docLinkHtml = 'Like what you see? Visit the ' +\n",
              "            '<a target=\"_blank\" href=https://colab.research.google.com/notebooks/data_table.ipynb>data table notebook</a>'\n",
              "            + ' to learn more about interactive tables.';\n",
              "          element.innerHTML = '';\n",
              "          dataTable['output_type'] = 'display_data';\n",
              "          await google.colab.output.renderOutput(dataTable, element);\n",
              "          const docLink = document.createElement('div');\n",
              "          docLink.innerHTML = docLinkHtml;\n",
              "          element.appendChild(docLink);\n",
              "        }\n",
              "      </script>\n",
              "    </div>\n",
              "  </div>\n",
              "  "
            ],
            "text/plain": [
              "        Дата    Цена  Цена_прогноз\n",
              "0 2022-01-18  318.15    323.856397\n",
              "1 2022-01-19  319.59    323.801138\n",
              "2 2022-01-20  316.56    323.910028\n",
              "3 2022-01-21  303.17    311.583401\n",
              "4 2022-01-24  308.71    304.541147\n",
              "5 2022-01-25  300.15    301.458191\n",
              "6 2022-01-26  294.63    301.407349\n",
              "7 2022-01-27  299.65    298.747685"
            ]
          },
          "metadata": {},
          "execution_count": 14
        }
      ]
    },
    {
      "cell_type": "code",
      "source": [
        "plt.style.use('ggplot')\n",
        "plt.plot(y_new[\"Дата\"], y_new[\"Цена\"], label='Actuall Data') #actual plot\n",
        "plt.plot(y_new[\"Дата\"], y_new[\"Цена_прогноз\"], label='Predicted Data') #predicted plot\n",
        "plt.xticks(rotation=90)\n",
        "plt.title('Predict price FB')\n",
        "plt.legend()\n",
        "plt.show()"
      ],
      "metadata": {
        "colab": {
          "base_uri": "https://localhost:8080/",
          "height": 330
        },
        "id": "87GWNec4MuJZ",
        "outputId": "542fad48-44e1-46e1-f592-99a6c4bbf3bf"
      },
      "execution_count": 15,
      "outputs": [
        {
          "output_type": "display_data",
          "data": {
            "image/png": "[encoded data removed]",
            "text/plain": [
              "<Figure size 432x288 with 1 Axes>"
            ]
          },
          "metadata": {}
        }
      ]
    }
  ]
}