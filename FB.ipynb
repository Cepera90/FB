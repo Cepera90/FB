{
  "nbformat": 4,
  "nbformat_minor": 0,
  "metadata": {
    "colab": {
      "name": "FB.ipynb",
      "provenance": [],
      "collapsed_sections": [],
      "mount_file_id": "https://github.com/Cepera90/FB/blob/main/FB.ipynb",
      "authorship_tag": "ABX9TyMOEr0suxtXQ1t5vPfpT8qy",
      "include_colab_link": true
    },
    "kernelspec": {
      "name": "python3",
      "display_name": "Python 3"
    },
    "language_info": {
      "name": "python"
    }
  },
  "cells": [
    {
      "cell_type": "markdown",
      "metadata": {
        "id": "view-in-github",
        "colab_type": "text"
      },
      "source": [
        "<a href=\"https://colab.research.google.com/github/Cepera90/FB/blob/main/FB.ipynb\" target=\"_parent\"><img src=\"https://colab.research.google.com/assets/colab-badge.svg\" alt=\"Open In Colab\"/></a>"
      ]
    },
    {
      "cell_type": "code",
      "execution_count": 228,
      "metadata": {
        "id": "DhKjEm7mBYtC"
      },
      "outputs": [],
      "source": [
        "# Import libraries\n",
        "import numpy as np\n",
        "import pandas as pd\n",
        "import matplotlib.pyplot as plt\n",
        "from sklearn.preprocessing import StandardScaler, MinMaxScaler\n",
        "from sklearn.metrics import mean_absolute_error\n",
        "import torch #pytorch\n",
        "import torch.nn as nn\n",
        "from torch.autograd import Variable \n",
        "\n",
        "# Import data from https://ru.investing.com/equities/facebook-inc-historical-data \n",
        "df = pd.read_csv('/content/drive/MyDrive/FB.csv', index_col = 'Дата', parse_dates=True, quotechar='\"', decimal=\",\", dayfirst=True)"
      ]
    },
    {
      "cell_type": "code",
      "source": [
        "# Show the first five rows\n",
        "df.head(5)"
      ],
      "metadata": {
        "colab": {
          "base_uri": "https://localhost:8080/",
          "height": 238
        },
        "id": "ozwTC3gUCAfq",
        "outputId": "a548bf2c-6919-41f6-ce60-fbfb8c8d69e7"
      },
      "execution_count": null,
      "outputs": [
        {
          "output_type": "execute_result",
          "data": {
            "text/html": [
              "\n",
              "  <div id=\"df-ef73d9f6-181b-4df6-8e17-6f0b3f140e91\">\n",
              "    <div class=\"colab-df-container\">\n",
              "      <div>\n",
              "<style scoped>\n",
              "    .dataframe tbody tr th:only-of-type {\n",
              "        vertical-align: middle;\n",
              "    }\n",
              "\n",
              "    .dataframe tbody tr th {\n",
              "        vertical-align: top;\n",
              "    }\n",
              "\n",
              "    .dataframe thead th {\n",
              "        text-align: right;\n",
              "    }\n",
              "</style>\n",
              "<table border=\"1\" class=\"dataframe\">\n",
              "  <thead>\n",
              "    <tr style=\"text-align: right;\">\n",
              "      <th></th>\n",
              "      <th>Цена</th>\n",
              "      <th>Откр.</th>\n",
              "      <th>Макс.</th>\n",
              "      <th>Мин.</th>\n",
              "      <th>Объём</th>\n",
              "      <th>Изм. %</th>\n",
              "    </tr>\n",
              "    <tr>\n",
              "      <th>Дата</th>\n",
              "      <th></th>\n",
              "      <th></th>\n",
              "      <th></th>\n",
              "      <th></th>\n",
              "      <th></th>\n",
              "      <th></th>\n",
              "    </tr>\n",
              "  </thead>\n",
              "  <tbody>\n",
              "    <tr>\n",
              "      <th>2022-01-14</th>\n",
              "      <td>331.90</td>\n",
              "      <td>321.79</td>\n",
              "      <td>332.73</td>\n",
              "      <td>321.21</td>\n",
              "      <td>16,77M</td>\n",
              "      <td>1,66%</td>\n",
              "    </tr>\n",
              "    <tr>\n",
              "      <th>2022-01-13</th>\n",
              "      <td>326.48</td>\n",
              "      <td>334.98</td>\n",
              "      <td>335.63</td>\n",
              "      <td>325.76</td>\n",
              "      <td>14,67M</td>\n",
              "      <td>-2,03%</td>\n",
              "    </tr>\n",
              "    <tr>\n",
              "      <th>2022-01-12</th>\n",
              "      <td>333.26</td>\n",
              "      <td>335.18</td>\n",
              "      <td>336.36</td>\n",
              "      <td>330.03</td>\n",
              "      <td>14,10M</td>\n",
              "      <td>-0,33%</td>\n",
              "    </tr>\n",
              "    <tr>\n",
              "      <th>2022-01-11</th>\n",
              "      <td>334.37</td>\n",
              "      <td>326.78</td>\n",
              "      <td>334.63</td>\n",
              "      <td>325.28</td>\n",
              "      <td>16,19M</td>\n",
              "      <td>1,92%</td>\n",
              "    </tr>\n",
              "    <tr>\n",
              "      <th>2022-01-10</th>\n",
              "      <td>328.07</td>\n",
              "      <td>325.31</td>\n",
              "      <td>328.34</td>\n",
              "      <td>315.43</td>\n",
              "      <td>24,83M</td>\n",
              "      <td>-1,12%</td>\n",
              "    </tr>\n",
              "  </tbody>\n",
              "</table>\n",
              "</div>\n",
              "      <button class=\"colab-df-convert\" onclick=\"convertToInteractive('df-ef73d9f6-181b-4df6-8e17-6f0b3f140e91')\"\n",
              "              title=\"Convert this dataframe to an interactive table.\"\n",
              "              style=\"display:none;\">\n",
              "        \n",
              "  <svg xmlns=\"http://www.w3.org/2000/svg\" height=\"24px\"viewBox=\"0 0 24 24\"\n",
              "       width=\"24px\">\n",
              "    <path d=\"M0 0h24v24H0V0z\" fill=\"none\"/>\n",
              "    <path d=\"M18.56 5.44l.94 2.06.94-2.06 2.06-.94-2.06-.94-.94-2.06-.94 2.06-2.06.94zm-11 1L8.5 8.5l.94-2.06 2.06-.94-2.06-.94L8.5 2.5l-.94 2.06-2.06.94zm10 10l.94 2.06.94-2.06 2.06-.94-2.06-.94-.94-2.06-.94 2.06-2.06.94z\"/><path d=\"M17.41 7.96l-1.37-1.37c-.4-.4-.92-.59-1.43-.59-.52 0-1.04.2-1.43.59L10.3 9.45l-7.72 7.72c-.78.78-.78 2.05 0 2.83L4 21.41c.39.39.9.59 1.41.59.51 0 1.02-.2 1.41-.59l7.78-7.78 2.81-2.81c.8-.78.8-2.07 0-2.86zM5.41 20L4 18.59l7.72-7.72 1.47 1.35L5.41 20z\"/>\n",
              "  </svg>\n",
              "      </button>\n",
              "      \n",
              "  <style>\n",
              "    .colab-df-container {\n",
              "      display:flex;\n",
              "      flex-wrap:wrap;\n",
              "      gap: 12px;\n",
              "    }\n",
              "\n",
              "    .colab-df-convert {\n",
              "      background-color: #E8F0FE;\n",
              "      border: none;\n",
              "      border-radius: 50%;\n",
              "      cursor: pointer;\n",
              "      display: none;\n",
              "      fill: #1967D2;\n",
              "      height: 32px;\n",
              "      padding: 0 0 0 0;\n",
              "      width: 32px;\n",
              "    }\n",
              "\n",
              "    .colab-df-convert:hover {\n",
              "      background-color: #E2EBFA;\n",
              "      box-shadow: 0px 1px 2px rgba(60, 64, 67, 0.3), 0px 1px 3px 1px rgba(60, 64, 67, 0.15);\n",
              "      fill: #174EA6;\n",
              "    }\n",
              "\n",
              "    [theme=dark] .colab-df-convert {\n",
              "      background-color: #3B4455;\n",
              "      fill: #D2E3FC;\n",
              "    }\n",
              "\n",
              "    [theme=dark] .colab-df-convert:hover {\n",
              "      background-color: #434B5C;\n",
              "      box-shadow: 0px 1px 3px 1px rgba(0, 0, 0, 0.15);\n",
              "      filter: drop-shadow(0px 1px 2px rgba(0, 0, 0, 0.3));\n",
              "      fill: #FFFFFF;\n",
              "    }\n",
              "  </style>\n",
              "\n",
              "      <script>\n",
              "        const buttonEl =\n",
              "          document.querySelector('#df-ef73d9f6-181b-4df6-8e17-6f0b3f140e91 button.colab-df-convert');\n",
              "        buttonEl.style.display =\n",
              "          google.colab.kernel.accessAllowed ? 'block' : 'none';\n",
              "\n",
              "        async function convertToInteractive(key) {\n",
              "          const element = document.querySelector('#df-ef73d9f6-181b-4df6-8e17-6f0b3f140e91');\n",
              "          const dataTable =\n",
              "            await google.colab.kernel.invokeFunction('convertToInteractive',\n",
              "                                                     [key], {});\n",
              "          if (!dataTable) return;\n",
              "\n",
              "          const docLinkHtml = 'Like what you see? Visit the ' +\n",
              "            '<a target=\"_blank\" href=https://colab.research.google.com/notebooks/data_table.ipynb>data table notebook</a>'\n",
              "            + ' to learn more about interactive tables.';\n",
              "          element.innerHTML = '';\n",
              "          dataTable['output_type'] = 'display_data';\n",
              "          await google.colab.output.renderOutput(dataTable, element);\n",
              "          const docLink = document.createElement('div');\n",
              "          docLink.innerHTML = docLinkHtml;\n",
              "          element.appendChild(docLink);\n",
              "        }\n",
              "      </script>\n",
              "    </div>\n",
              "  </div>\n",
              "  "
            ],
            "text/plain": [
              "              Цена   Откр.   Макс.    Мин.   Объём  Изм. %\n",
              "Дата                                                      \n",
              "2022-01-14  331.90  321.79  332.73  321.21  16,77M   1,66%\n",
              "2022-01-13  326.48  334.98  335.63  325.76  14,67M  -2,03%\n",
              "2022-01-12  333.26  335.18  336.36  330.03  14,10M  -0,33%\n",
              "2022-01-11  334.37  326.78  334.63  325.28  16,19M   1,92%\n",
              "2022-01-10  328.07  325.31  328.34  315.43  24,83M  -1,12%"
            ]
          },
          "metadata": {},
          "execution_count": 3
        }
      ]
    },
    {
      "cell_type": "code",
      "source": [
        "# Sort data ascending by date\n",
        "df = df.sort_values(by=\"Дата\",\n",
        "               ascending=True)"
      ],
      "metadata": {
        "id": "N6SIsfA42sFu"
      },
      "execution_count": 3,
      "outputs": []
    },
    {
      "cell_type": "code",
      "source": [
        "# Show the first five rows\n",
        "df.head(5)"
      ],
      "metadata": {
        "colab": {
          "base_uri": "https://localhost:8080/",
          "height": 238
        },
        "id": "dmmObtT0AxUJ",
        "outputId": "ca6d914b-23b4-48a8-ee82-0a924978e344"
      },
      "execution_count": null,
      "outputs": [
        {
          "output_type": "execute_result",
          "data": {
            "text/html": [
              "\n",
              "  <div id=\"df-31a837d7-a96c-485a-a676-8e84e119917a\">\n",
              "    <div class=\"colab-df-container\">\n",
              "      <div>\n",
              "<style scoped>\n",
              "    .dataframe tbody tr th:only-of-type {\n",
              "        vertical-align: middle;\n",
              "    }\n",
              "\n",
              "    .dataframe tbody tr th {\n",
              "        vertical-align: top;\n",
              "    }\n",
              "\n",
              "    .dataframe thead th {\n",
              "        text-align: right;\n",
              "    }\n",
              "</style>\n",
              "<table border=\"1\" class=\"dataframe\">\n",
              "  <thead>\n",
              "    <tr style=\"text-align: right;\">\n",
              "      <th></th>\n",
              "      <th>Цена</th>\n",
              "      <th>Откр.</th>\n",
              "      <th>Макс.</th>\n",
              "      <th>Мин.</th>\n",
              "      <th>Объём</th>\n",
              "      <th>Изм. %</th>\n",
              "    </tr>\n",
              "    <tr>\n",
              "      <th>Дата</th>\n",
              "      <th></th>\n",
              "      <th></th>\n",
              "      <th></th>\n",
              "      <th></th>\n",
              "      <th></th>\n",
              "      <th></th>\n",
              "    </tr>\n",
              "  </thead>\n",
              "  <tbody>\n",
              "    <tr>\n",
              "      <th>2012-05-18</th>\n",
              "      <td>38.23</td>\n",
              "      <td>42.05</td>\n",
              "      <td>45.00</td>\n",
              "      <td>38.00</td>\n",
              "      <td>580,59M</td>\n",
              "      <td>-57,62%</td>\n",
              "    </tr>\n",
              "    <tr>\n",
              "      <th>2012-05-21</th>\n",
              "      <td>34.03</td>\n",
              "      <td>36.53</td>\n",
              "      <td>36.66</td>\n",
              "      <td>33.00</td>\n",
              "      <td>168,31M</td>\n",
              "      <td>-10,99%</td>\n",
              "    </tr>\n",
              "    <tr>\n",
              "      <th>2012-05-22</th>\n",
              "      <td>31.00</td>\n",
              "      <td>32.61</td>\n",
              "      <td>33.59</td>\n",
              "      <td>30.94</td>\n",
              "      <td>102,05M</td>\n",
              "      <td>-8,90%</td>\n",
              "    </tr>\n",
              "    <tr>\n",
              "      <th>2012-05-23</th>\n",
              "      <td>32.00</td>\n",
              "      <td>31.37</td>\n",
              "      <td>32.50</td>\n",
              "      <td>31.36</td>\n",
              "      <td>73,72M</td>\n",
              "      <td>3,23%</td>\n",
              "    </tr>\n",
              "    <tr>\n",
              "      <th>2012-05-24</th>\n",
              "      <td>33.03</td>\n",
              "      <td>32.95</td>\n",
              "      <td>33.21</td>\n",
              "      <td>31.77</td>\n",
              "      <td>50,28M</td>\n",
              "      <td>3,22%</td>\n",
              "    </tr>\n",
              "  </tbody>\n",
              "</table>\n",
              "</div>\n",
              "      <button class=\"colab-df-convert\" onclick=\"convertToInteractive('df-31a837d7-a96c-485a-a676-8e84e119917a')\"\n",
              "              title=\"Convert this dataframe to an interactive table.\"\n",
              "              style=\"display:none;\">\n",
              "        \n",
              "  <svg xmlns=\"http://www.w3.org/2000/svg\" height=\"24px\"viewBox=\"0 0 24 24\"\n",
              "       width=\"24px\">\n",
              "    <path d=\"M0 0h24v24H0V0z\" fill=\"none\"/>\n",
              "    <path d=\"M18.56 5.44l.94 2.06.94-2.06 2.06-.94-2.06-.94-.94-2.06-.94 2.06-2.06.94zm-11 1L8.5 8.5l.94-2.06 2.06-.94-2.06-.94L8.5 2.5l-.94 2.06-2.06.94zm10 10l.94 2.06.94-2.06 2.06-.94-2.06-.94-.94-2.06-.94 2.06-2.06.94z\"/><path d=\"M17.41 7.96l-1.37-1.37c-.4-.4-.92-.59-1.43-.59-.52 0-1.04.2-1.43.59L10.3 9.45l-7.72 7.72c-.78.78-.78 2.05 0 2.83L4 21.41c.39.39.9.59 1.41.59.51 0 1.02-.2 1.41-.59l7.78-7.78 2.81-2.81c.8-.78.8-2.07 0-2.86zM5.41 20L4 18.59l7.72-7.72 1.47 1.35L5.41 20z\"/>\n",
              "  </svg>\n",
              "      </button>\n",
              "      \n",
              "  <style>\n",
              "    .colab-df-container {\n",
              "      display:flex;\n",
              "      flex-wrap:wrap;\n",
              "      gap: 12px;\n",
              "    }\n",
              "\n",
              "    .colab-df-convert {\n",
              "      background-color: #E8F0FE;\n",
              "      border: none;\n",
              "      border-radius: 50%;\n",
              "      cursor: pointer;\n",
              "      display: none;\n",
              "      fill: #1967D2;\n",
              "      height: 32px;\n",
              "      padding: 0 0 0 0;\n",
              "      width: 32px;\n",
              "    }\n",
              "\n",
              "    .colab-df-convert:hover {\n",
              "      background-color: #E2EBFA;\n",
              "      box-shadow: 0px 1px 2px rgba(60, 64, 67, 0.3), 0px 1px 3px 1px rgba(60, 64, 67, 0.15);\n",
              "      fill: #174EA6;\n",
              "    }\n",
              "\n",
              "    [theme=dark] .colab-df-convert {\n",
              "      background-color: #3B4455;\n",
              "      fill: #D2E3FC;\n",
              "    }\n",
              "\n",
              "    [theme=dark] .colab-df-convert:hover {\n",
              "      background-color: #434B5C;\n",
              "      box-shadow: 0px 1px 3px 1px rgba(0, 0, 0, 0.15);\n",
              "      filter: drop-shadow(0px 1px 2px rgba(0, 0, 0, 0.3));\n",
              "      fill: #FFFFFF;\n",
              "    }\n",
              "  </style>\n",
              "\n",
              "      <script>\n",
              "        const buttonEl =\n",
              "          document.querySelector('#df-31a837d7-a96c-485a-a676-8e84e119917a button.colab-df-convert');\n",
              "        buttonEl.style.display =\n",
              "          google.colab.kernel.accessAllowed ? 'block' : 'none';\n",
              "\n",
              "        async function convertToInteractive(key) {\n",
              "          const element = document.querySelector('#df-31a837d7-a96c-485a-a676-8e84e119917a');\n",
              "          const dataTable =\n",
              "            await google.colab.kernel.invokeFunction('convertToInteractive',\n",
              "                                                     [key], {});\n",
              "          if (!dataTable) return;\n",
              "\n",
              "          const docLinkHtml = 'Like what you see? Visit the ' +\n",
              "            '<a target=\"_blank\" href=https://colab.research.google.com/notebooks/data_table.ipynb>data table notebook</a>'\n",
              "            + ' to learn more about interactive tables.';\n",
              "          element.innerHTML = '';\n",
              "          dataTable['output_type'] = 'display_data';\n",
              "          await google.colab.output.renderOutput(dataTable, element);\n",
              "          const docLink = document.createElement('div');\n",
              "          docLink.innerHTML = docLinkHtml;\n",
              "          element.appendChild(docLink);\n",
              "        }\n",
              "      </script>\n",
              "    </div>\n",
              "  </div>\n",
              "  "
            ],
            "text/plain": [
              "             Цена  Откр.  Макс.   Мин.    Объём   Изм. %\n",
              "Дата                                                    \n",
              "2012-05-18  38.23  42.05  45.00  38.00  580,59M  -57,62%\n",
              "2012-05-21  34.03  36.53  36.66  33.00  168,31M  -10,99%\n",
              "2012-05-22  31.00  32.61  33.59  30.94  102,05M   -8,90%\n",
              "2012-05-23  32.00  31.37  32.50  31.36   73,72M    3,23%\n",
              "2012-05-24  33.03  32.95  33.21  31.77   50,28M    3,22%"
            ]
          },
          "metadata": {},
          "execution_count": 5
        }
      ]
    },
    {
      "cell_type": "code",
      "source": [
        "# Prepare data for processing and printing\n",
        "df['Объём'] = [x.replace(',', '.').replace('M', '') for x in df['Объём']]\n",
        "df['Изм. %'] = [x.replace('+', '').replace('-', '').replace('%', '').replace(',', '.') for x in df['Изм. %']]\n",
        "df.loc['2022-01-14':,'Цена':'Изм. %'] = df.loc['2022-01-14':,'Цена':'Изм. %'].astype(float)"
      ],
      "metadata": {
        "id": "wcnSbg5mIBxd"
      },
      "execution_count": 4,
      "outputs": []
    },
    {
      "cell_type": "code",
      "source": [
        "plt.style.use('ggplot')\n",
        "df['Цена'].plot(label='Цена', title='FB Stock Volume')"
      ],
      "metadata": {
        "colab": {
          "base_uri": "https://localhost:8080/",
          "height": 306
        },
        "id": "0FeMmZhKCGjC",
        "outputId": "d61a9c44-5de2-4276-a4ed-cc6f636bcf21"
      },
      "execution_count": 5,
      "outputs": [
        {
          "output_type": "execute_result",
          "data": {
            "text/plain": [
              "<matplotlib.axes._subplots.AxesSubplot at 0x7f6484d13d90>"
            ]
          },
          "metadata": {},
          "execution_count": 5
        },
        {
          "output_type": "display_data",
          "data": {
            "text/plain": [
              "<Figure size 432x288 with 1 Axes>"
            ],
            "image/png": "[encoded data removed]"
          },
          "metadata": {}
        }
      ]
    },
    {
      "cell_type": "code",
      "source": [
        "# Let's choose a variable and its values\n",
        "X = df.iloc[:, 1:2]\n",
        "y = df.iloc[:, 0:1]"
      ],
      "metadata": {
        "id": "Xu52FTl06Mtq"
      },
      "execution_count": 212,
      "outputs": []
    },
    {
      "cell_type": "code",
      "source": [
        "# Standardize variable by removing the mean and scaling to unit variance\n",
        "ss = StandardScaler()\n",
        "X_ss = ss.fit_transform(X)\n",
        "\n",
        "# Transform values by scaling\n",
        "mm = MinMaxScaler()\n",
        "y_mm = mm.fit_transform(y)\n",
        "y_array = np.array(y)"
      ],
      "metadata": {
        "id": "fN7MnD8-8379"
      },
      "execution_count": 180,
      "outputs": []
    },
    {
      "cell_type": "code",
      "source": [
        "# Print shape of the arrays of the variable and its value\n",
        "print(\"X_ss Shape\", X_ss.shape)\n",
        "print(\"y_mm Shape\", y_mm.shape)"
      ],
      "metadata": {
        "colab": {
          "base_uri": "https://localhost:8080/"
        },
        "id": "Lggc21L9is9J",
        "outputId": "a302a75f-fb23-44ec-ee01-b434036acacd"
      },
      "execution_count": 181,
      "outputs": [
        {
          "output_type": "stream",
          "name": "stdout",
          "text": [
            "X_ss Shape (2433, 1)\n",
            "y_mm Shape (2433, 1)\n"
          ]
        }
      ]
    },
    {
      "cell_type": "code",
      "source": [
        "# Split dataset to train and test sets\n",
        "test_size = int(0.1 * len(X_ss))\n",
        "X_train = X_ss[:-test_size, :]\n",
        "X_test = X_ss[-test_size:, :]\n",
        "\n",
        "y_train = y_mm[:-test_size, :]\n",
        "y_test = y_mm[-test_size:, :]"
      ],
      "metadata": {
        "id": "-2nbLGd19Ms5"
      },
      "execution_count": 182,
      "outputs": []
    },
    {
      "cell_type": "code",
      "source": [
        "# Print shape of the training and testing arrays\n",
        "print(\"Training Shape\", X_train.shape, y_train.shape)\n",
        "print(\"Testing Shape\", X_test.shape, y_test.shape)"
      ],
      "metadata": {
        "colab": {
          "base_uri": "https://localhost:8080/"
        },
        "id": "Pz-IwFt9_oGc",
        "outputId": "ee9f5fde-991a-46b0-cb79-93d8a5790afe"
      },
      "execution_count": 183,
      "outputs": [
        {
          "output_type": "stream",
          "name": "stdout",
          "text": [
            "Training Shape (2190, 1) (2190, 1)\n",
            "Testing Shape (243, 1) (243, 1)\n"
          ]
        }
      ]
    },
    {
      "cell_type": "code",
      "source": [
        "# Converting to Tensors\n",
        "X_train_tensors = Variable(torch.Tensor(X_train))\n",
        "X_test_tensors = Variable(torch.Tensor(X_test))\n",
        "\n",
        "y_train_tensors = Variable(torch.Tensor(y_train))\n",
        "y_test_tensors = Variable(torch.Tensor(y_test))"
      ],
      "metadata": {
        "id": "0hyMx2ZA9ciO"
      },
      "execution_count": 184,
      "outputs": []
    },
    {
      "cell_type": "code",
      "source": [
        "# Reshaping rows, timestamps, features\n",
        "\n",
        "X_train_tensors_final = torch.reshape(X_train_tensors,   (X_train_tensors.shape[0], 1, X_train_tensors.shape[1]))\n",
        "\n",
        "\n",
        "X_test_tensors_final = torch.reshape(X_test_tensors,  (X_test_tensors.shape[0], 1, X_test_tensors.shape[1]))"
      ],
      "metadata": {
        "id": "5RJbOZbr90se"
      },
      "execution_count": 185,
      "outputs": []
    },
    {
      "cell_type": "code",
      "source": [
        "# Lstm class\n",
        "class LSTM1(nn.Module):\n",
        "    def __init__(self, num_classes, input_size, hidden_size, num_layers, seq_length):\n",
        "        super(LSTM1, self).__init__()\n",
        "        self.num_classes = num_classes #number of classes\n",
        "        self.num_layers = num_layers #number of layers\n",
        "        self.input_size = input_size #input size\n",
        "        self.hidden_size = hidden_size #hidden state\n",
        "        self.seq_length = seq_length #sequence length\n",
        "\n",
        "        self.lstm = nn.LSTM(input_size=input_size, hidden_size=hidden_size,\n",
        "                          num_layers=num_layers, batch_first=True) #lstm\n",
        "        self.fc_1 =  nn.Linear(hidden_size, 128) #fully connected 1\n",
        "        self.fc = nn.Linear(128, num_classes) #fully connected last layer\n",
        "\n",
        "        self.relu = nn.ReLU()\n",
        "    \n",
        "    def forward(self,x):\n",
        "        h_0 = Variable(torch.zeros(self.num_layers, x.size(0), self.hidden_size)) #hidden state\n",
        "        c_0 = Variable(torch.zeros(self.num_layers, x.size(0), self.hidden_size)) #internal state\n",
        "        # Propagate input through LSTM\n",
        "        output, (hn, cn) = self.lstm(x, (h_0, c_0)) #lstm with input, hidden, and internal state\n",
        "        hn = hn.view(-1, self.hidden_size) #reshaping the data for Dense layer next\n",
        "        out = self.relu(hn)\n",
        "        out = self.fc_1(out) #first Dense\n",
        "        out = self.relu(out) #relu\n",
        "        out = self.fc(out) #Final Output\n",
        "        return out"
      ],
      "metadata": {
        "id": "gUAecigE-Av9"
      },
      "execution_count": 38,
      "outputs": []
    },
    {
      "cell_type": "code",
      "source": [
        "# Lstm parametrs:\n",
        "num_epochs = 400\n",
        "learning_rate = 0.001\n",
        "\n",
        "input_size = 1 #number of features\n",
        "hidden_size = 64 #number of features in hidden state\n",
        "num_layers = 1 #number of stacked lstm layers\n",
        "\n",
        "num_classes = 1 #number of output classes"
      ],
      "metadata": {
        "id": "0zS4an4d-NS4"
      },
      "execution_count": 186,
      "outputs": []
    },
    {
      "cell_type": "code",
      "source": [
        "# Our lstm class\n",
        "lstm1 = LSTM1(num_classes, input_size, hidden_size, num_layers, X_train_tensors_final.shape[1])"
      ],
      "metadata": {
        "id": "KmRbmmkX-pEE"
      },
      "execution_count": 187,
      "outputs": []
    },
    {
      "cell_type": "code",
      "source": [
        "criterion = torch.nn.MSELoss()    # mean-squared error for regression\n",
        "optimizer = torch.optim.Adam(lstm1.parameters(), lr=learning_rate)"
      ],
      "metadata": {
        "id": "Gj_IaSkv-urS"
      },
      "execution_count": 188,
      "outputs": []
    },
    {
      "cell_type": "code",
      "source": [
        "for epoch in range(num_epochs):\n",
        "  outputs = lstm1.forward(X_train_tensors_final) #forward pass\n",
        "  optimizer.zero_grad() #caluclate the gradient, manually setting to 0\n",
        " \n",
        "  # obtain the loss function\n",
        "  loss = criterion(outputs, y_train_tensors)\n",
        " \n",
        "  loss.backward() #calculates the loss of the loss function\n",
        " \n",
        "  optimizer.step() #improve from loss, i.e backprop\n",
        "  if epoch % 100 == 0:\n",
        "    print(\"Epoch: %d, loss: %1.5f\" % (epoch, loss.item()))"
      ],
      "metadata": {
        "colab": {
          "base_uri": "https://localhost:8080/"
        },
        "id": "V1JzjQ2T-wOY",
        "outputId": "94758d0f-b5c0-49af-98cc-4caea820de75"
      },
      "execution_count": 189,
      "outputs": [
        {
          "output_type": "stream",
          "name": "stdout",
          "text": [
            "Epoch: 0, loss: 0.17630\n",
            "Epoch: 100, loss: 0.00036\n",
            "Epoch: 200, loss: 0.00013\n",
            "Epoch: 300, loss: 0.00008\n"
          ]
        }
      ]
    },
    {
      "cell_type": "markdown",
      "source": [
        "Add the opening price and price corresponding to the current date"
      ],
      "metadata": {
        "id": "-fdOHaYH0DXC"
      }
    },
    {
      "cell_type": "code",
      "source": [
        "Data_pred = pd.Timestamp(2022, 1, 18)\n",
        "Open_price = 323.29\n",
        "Price = 318.15\n",
        "X_new = pd.DataFrame({'Откр.': [Open_price]}, index=[Data_pred])\n",
        "y_new = pd.DataFrame({'Цена': [Price]}, index=[Data_pred])\n",
        "X_new.index.name = 'Дата'\n",
        "y_new.index.name = 'Дата'\n",
        "X = X.append(X_new).sort_values(by=\"Дата\", ascending=True)\n",
        "y = y.append(y_new).sort_values(by=\"Дата\", ascending=True)"
      ],
      "metadata": {
        "id": "BfGx9fpeXIYt"
      },
      "execution_count": 213,
      "outputs": []
    },
    {
      "cell_type": "code",
      "source": [
        "df_X_ss = ss.transform(X) #old transformers\n",
        "df_y_mm = mm.transform(y) #old transformers\n",
        "\n",
        "df_X_ss = Variable(torch.Tensor(df_X_ss)) #converting to Tensors\n",
        "df_y_mm = Variable(torch.Tensor(df_y_mm))\n",
        "\n",
        "#reshaping the dataset\n",
        "df_X_ss = torch.reshape(df_X_ss, (df_X_ss.shape[0], 1, df_X_ss.shape[1]))"
      ],
      "metadata": {
        "id": "L74lwrVF_OMb"
      },
      "execution_count": 214,
      "outputs": []
    },
    {
      "cell_type": "code",
      "source": [
        "train_predict = lstm1(df_X_ss)#forward pass\n",
        "data_predict = train_predict.data.numpy() #numpy conversion\n",
        "dataY_plot = df_y_mm.data.numpy()\n",
        "\n",
        "data_predict = mm.inverse_transform(data_predict) #reverse transformation\n",
        "dataY_plot = mm.inverse_transform(dataY_plot)\n",
        "plt.figure(figsize=(10,6)) #plotting\n",
        "plt.axvline(x=2190, c='r', linestyle='--') #size of the training set\n",
        "\n",
        "plt.plot(dataY_plot, label='Actuall Data') #actual plot\n",
        "plt.plot(data_predict, label='Predicted Data') #predicted plot\n",
        "plt.title('Time-Series Prediction')\n",
        "plt.legend()\n",
        "plt.show()"
      ],
      "metadata": {
        "id": "9veLdlu1_f4Z",
        "colab": {
          "base_uri": "https://localhost:8080/",
          "height": 391
        },
        "outputId": "18310107-08ca-4138-d103-4cfdb25af457"
      },
      "execution_count": 215,
      "outputs": [
        {
          "output_type": "display_data",
          "data": {
            "text/plain": [
              "<Figure size 720x432 with 1 Axes>"
            ],
            "image/png": "[encoded data removed]"
          },
          "metadata": {}
        }
      ]
    },
    {
      "cell_type": "code",
      "source": [
        "print('Цена открытия', Open_price)\n",
        "print('Цена прогноз', data_predict[-1][0])\n",
        "print('Цена факт', Price)"
      ],
      "metadata": {
        "id": "NUp0NE1sx7B7",
        "outputId": "8c61c4c6-464c-4333-c35d-badcf983c203",
        "colab": {
          "base_uri": "https://localhost:8080/"
        }
      },
      "execution_count": 217,
      "outputs": [
        {
          "output_type": "stream",
          "name": "stdout",
          "text": [
            "Цена открытия 323.29\n",
            "Цена прогноз 323.47888\n",
            "Цена факт 318.15\n"
          ]
        }
      ]
    },
    {
      "cell_type": "code",
      "source": [
        "mae = mean_absolute_error(dataY_plot, data_predict)\n",
        "print('MAE: %f' % mae)"
      ],
      "metadata": {
        "id": "dvTe7WG0A9MC",
        "outputId": "3b3d3ece-a1cd-4d18-a037-954b569357b4",
        "colab": {
          "base_uri": "https://localhost:8080/"
        }
      },
      "execution_count": 229,
      "outputs": [
        {
          "output_type": "stream",
          "name": "stdout",
          "text": [
            "MAE: 2.405195\n"
          ]
        }
      ]
    }
  ]
}